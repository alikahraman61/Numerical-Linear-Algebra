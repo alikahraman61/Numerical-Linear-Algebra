{
  "nbformat": 4,
  "nbformat_minor": 0,
  "metadata": {
    "colab": {
      "provenance": []
    },
    "kernelspec": {
      "name": "python3",
      "display_name": "Python 3"
    },
    "language_info": {
      "name": "python"
    }
  },
  "cells": [
    {
      "cell_type": "code",
      "execution_count": null,
      "metadata": {
        "id": "p2iAGgzpsD2P"
      },
      "outputs": [],
      "source": [
        "from math import copysign, hypot\n",
        "import numpy as np\n",
        "from numpy.linalg import inv"
      ]
    },
    {
      "cell_type": "code",
      "source": [
        "def gram_schmidt(X):\n",
        "    O = np.zeros(X.shape)\n",
        "    for i in range(X.shape[1]):\n",
        "        # orthogonalization\n",
        "        vector = X[:, i]\n",
        "        space = O[:, :i]\n",
        "        projection = vector @ space\n",
        "        vector = vector - np.sum(projection * space, axis=1)\n",
        "        # normalization\n",
        "        norm = np.sqrt(vector @ vector)\n",
        "        vector /= abs(norm) < 1e-8 and 1 or norm\n",
        "        \n",
        "        O[:, i] = vector\n",
        "    return O"
      ],
      "metadata": {
        "id": "nj_HU-U8siRg"
      },
      "execution_count": null,
      "outputs": []
    },
    {
      "cell_type": "code",
      "source": [
        "np.set_printoptions(precision=10, suppress=True)\n",
        "\n",
        "# Input matrix\n",
        "A = np.array([[1,-4], [2,3], [2,2]], dtype='float')\n",
        "\n",
        "Q = gram_schmidt(A)\n"
      ],
      "metadata": {
        "id": "7AhMl150sHj3"
      },
      "execution_count": null,
      "outputs": []
    },
    {
      "cell_type": "code",
      "source": [
        "R = Q.T @ A"
      ],
      "metadata": {
        "id": "5fuizUxDsW6U"
      },
      "execution_count": null,
      "outputs": []
    },
    {
      "cell_type": "code",
      "source": [
        "R"
      ],
      "metadata": {
        "colab": {
          "base_uri": "https://localhost:8080/"
        },
        "id": "NNAoFgEjsYAC",
        "outputId": "63ab3841-7866-4264-d161-782d27347bc9"
      },
      "execution_count": null,
      "outputs": [
        {
          "output_type": "execute_result",
          "data": {
            "text/plain": [
              "array([[3., 2.],\n",
              "       [0., 5.]])"
            ]
          },
          "metadata": {},
          "execution_count": 27
        }
      ]
    },
    {
      "cell_type": "code",
      "source": [
        "Q"
      ],
      "metadata": {
        "colab": {
          "base_uri": "https://localhost:8080/"
        },
        "id": "36rJMNq8sylf",
        "outputId": "adabdc39-e362-4ae1-a71d-9f594c55f264"
      },
      "execution_count": null,
      "outputs": [
        {
          "output_type": "execute_result",
          "data": {
            "text/plain": [
              "array([[ 0.3333333333, -0.9333333333],\n",
              "       [ 0.6666666667,  0.3333333333],\n",
              "       [ 0.6666666667,  0.1333333333]])"
            ]
          },
          "metadata": {},
          "execution_count": 28
        }
      ]
    },
    {
      "cell_type": "code",
      "source": [
        "Q.T"
      ],
      "metadata": {
        "colab": {
          "base_uri": "https://localhost:8080/"
        },
        "id": "Fk98ERFif259",
        "outputId": "dd6042eb-10ea-41b2-e2a1-f2e14b78141f"
      },
      "execution_count": null,
      "outputs": [
        {
          "output_type": "execute_result",
          "data": {
            "text/plain": [
              "array([[ 0.3333333333,  0.6666666667,  0.6666666667],\n",
              "       [-0.9333333333,  0.3333333333,  0.1333333333]])"
            ]
          },
          "metadata": {},
          "execution_count": 29
        }
      ]
    },
    {
      "cell_type": "code",
      "source": [
        "Q@R"
      ],
      "metadata": {
        "colab": {
          "base_uri": "https://localhost:8080/"
        },
        "id": "JI4fhWtvgLdR",
        "outputId": "be99e7f5-e196-4648-cd3a-944fe13a7090"
      },
      "execution_count": null,
      "outputs": [
        {
          "output_type": "execute_result",
          "data": {
            "text/plain": [
              "array([[ 1., -4.],\n",
              "       [ 2.,  3.],\n",
              "       [ 2.,  2.]])"
            ]
          },
          "metadata": {},
          "execution_count": 30
        }
      ]
    },
    {
      "cell_type": "code",
      "source": [
        "b=np.array([[-3],[15],[9]],dtype='float')"
      ],
      "metadata": {
        "id": "-qtkzcS0giwW"
      },
      "execution_count": null,
      "outputs": []
    },
    {
      "cell_type": "code",
      "source": [
        "Q.T@b"
      ],
      "metadata": {
        "colab": {
          "base_uri": "https://localhost:8080/"
        },
        "id": "WeUpMo0fqIim",
        "outputId": "7c180c14-d248-481d-c58f-e4ee72ff50dc"
      },
      "execution_count": null,
      "outputs": [
        {
          "output_type": "execute_result",
          "data": {
            "text/plain": [
              "array([[15.],\n",
              "       [ 9.]])"
            ]
          },
          "metadata": {},
          "execution_count": 32
        }
      ]
    },
    {
      "cell_type": "code",
      "source": [],
      "metadata": {
        "id": "BMweW3MXugjm"
      },
      "execution_count": null,
      "outputs": []
    }
  ]
}