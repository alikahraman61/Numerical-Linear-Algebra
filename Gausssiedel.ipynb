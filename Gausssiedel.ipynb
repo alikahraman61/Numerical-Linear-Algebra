{
  "nbformat": 4,
  "nbformat_minor": 0,
  "metadata": {
    "colab": {
      "provenance": []
    },
    "kernelspec": {
      "name": "python3",
      "display_name": "Python 3"
    },
    "language_info": {
      "name": "python"
    }
  },
  "cells": [
    {
      "cell_type": "code",
      "source": [
        "import numpy as np\n",
        "x1 = 1\n",
        "x2 = 1\n",
        "x3 = 1\n",
        "epsilon = 0.01\n",
        "converged = False\n",
        "\n",
        "x_old = np.array([x1, x2, x3])\n",
        "print('Iteration results')\n",
        "print(' k,    x1,    x2,    x3 ')\n",
        "for k in range(1, 50):\n",
        "    x1 = (19-x2-x3)/6\n",
        "    x2 = (-16+x1-3*x3)/7\n",
        "    x3 = (33+2*x2)/5\n",
        "    x = np.array([x1, x2, x3])\n",
        "    # check if it is smaller than threshold\n",
        "    dx = np.sqrt(np.dot(x-x_old, x-x_old))\n",
        "    print(\"%d, %.4f, %.4f, %.4f\"%(k, x1, x2, x3))\n",
        "    if dx < epsilon:\n",
        "        converged = True\n",
        "        print('Converged!')\n",
        "        break\n",
        "        \n",
        "    # assign the latest x value to the old value\n",
        "    x_old = x\n",
        "\n",
        "if not converged:\n",
        "    print('Not converge, increase the # of iterations')"
      ],
      "metadata": {
        "colab": {
          "base_uri": "https://localhost:8080/"
        },
        "id": "TWajgveVXHdE",
        "outputId": "30caf30e-1fb7-425c-f23f-931c98977a93"
      },
      "execution_count": null,
      "outputs": [
        {
          "output_type": "stream",
          "name": "stdout",
          "text": [
            "Iteration results\n",
            " k,    x1,    x2,    x3 \n",
            "1, 2.8333, -2.3095, 5.6762\n",
            "2, 2.6056, -4.3461, 4.8615\n",
            "3, 3.0808, -3.9291, 5.0284\n",
            "4, 2.9835, -4.0145, 4.9942\n",
            "5, 3.0034, -3.9970, 5.0012\n",
            "6, 2.9993, -4.0006, 4.9998\n",
            "Converged!\n"
          ]
        }
      ]
    },
    {
      "cell_type": "code",
      "source": [],
      "metadata": {
        "id": "KAtFgXkCu6Ow"
      },
      "execution_count": null,
      "outputs": []
    }
  ]
}