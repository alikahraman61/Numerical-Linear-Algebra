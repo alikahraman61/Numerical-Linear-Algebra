{
  "nbformat": 4,
  "nbformat_minor": 0,
  "metadata": {
    "colab": {
      "provenance": []
    },
    "kernelspec": {
      "name": "python3",
      "display_name": "Python 3"
    },
    "language_info": {
      "name": "python"
    }
  },
  "cells": [
    {
      "cell_type": "code",
      "source": [
        "from math import copysign, hypot\n",
        "import numpy as np\n",
        "from numpy.linalg import inv"
      ],
      "metadata": {
        "id": "8xbBrlZJcujB"
      },
      "execution_count": null,
      "outputs": []
    },
    {
      "cell_type": "code",
      "source": [
        "def givens_rotation(A):\n",
        "    (num_rows, num_cols) = np.shape(A)\n",
        "    Q = np.identity(num_rows)\n",
        "    R = np.copy(A)\n",
        "\n",
        "    (rows, cols) = np.tril_indices(num_rows, -1, num_cols)\n",
        "    print(rows, cols)\n",
        "    for (row, col) in zip(rows, cols):\n",
        "\n",
        "        if R[row, col] != 0:\n",
        "            (c, s) = Givens_Rotation_Matrix_Entries(R[col, col], R[row, col])\n",
        "\n",
        "            G = np.identity(num_rows)\n",
        "            G[[col, row], [col, row]] = c\n",
        "            G[row, col] = s\n",
        "            G[col, row] = -s\n",
        "            R = np.dot(G, R)\n",
        "            Q = np.dot(Q, G.T)\n",
        "    return (Q, R)\n",
        "\n",
        "def Givens_Rotation_Matrix_Entries(a, b):\n",
        "    r = hypot(a, b)\n",
        "    c = a/r\n",
        "    s = -b/r\n",
        "\n",
        "    return (c, s)"
      ],
      "metadata": {
        "id": "U5t91xiHrOBN"
      },
      "execution_count": null,
      "outputs": []
    },
    {
      "cell_type": "markdown",
      "source": [],
      "metadata": {
        "id": "Ravk2yVwi3fs"
      }
    },
    {
      "cell_type": "code",
      "source": [
        "\n",
        "np.set_printoptions(precision=10, suppress=True)\n",
        "\n",
        "A = np.array([[1, -2, 3, -4], [5, -6, 7, -8], [9, 0, -1, 2],[-3, 4, -5, 6],[-7, 8, 9, 0]], dtype='float')\n",
        "\n",
        "Q, R = givens_rotation(A)\n",
        "\n"
      ],
      "metadata": {
        "id": "WOu1A9MRtI-Z"
      },
      "execution_count": null,
      "outputs": []
    },
    {
      "cell_type": "code",
      "source": [
        "Q"
      ],
      "metadata": {
        "colab": {
          "base_uri": "https://localhost:8080/"
        },
        "id": "I2JLm-TfhWUO",
        "outputId": "791a4867-9f24-444a-9dba-058e01db5922"
      },
      "execution_count": null,
      "outputs": [
        {
          "output_type": "execute_result",
          "data": {
            "text/plain": [
              "array([[ 0.0778498944, -0.1808726186,  0.2309909693, -0.860930308 ,\n",
              "        -0.4082482905],\n",
              "       [ 0.3892494721, -0.3853373178,  0.5659278748,  0.4615831169,\n",
              "        -0.4082482905],\n",
              "       [ 0.7006490497,  0.7077624204,  0.0571061007, -0.0700154166,\n",
              "        -0.          ],\n",
              "       [-0.2335496832,  0.2831049682, -0.3984594221,  0.1996735955,\n",
              "        -0.8164965809],\n",
              "       [-0.5449492609,  0.4875696674,  0.6814233595,  0.0311179629,\n",
              "         0.          ]])"
            ]
          },
          "metadata": {},
          "execution_count": 39
        }
      ]
    },
    {
      "cell_type": "code",
      "source": [
        "R"
      ],
      "metadata": {
        "colab": {
          "base_uri": "https://localhost:8080/"
        },
        "id": "VCGv_cHFhfJU",
        "outputId": "edade421-ba9b-43eb-a91e-d5087e2c21d8"
      },
      "execution_count": null,
      "outputs": [
        {
          "output_type": "execute_result",
          "data": {
            "text/plain": [
              "array([[12.8452325787, -7.7849894416, -1.4791479939, -3.4253953543],\n",
              "       [-0.          ,  7.7067463559, -0.9751393348,  6.9203436665],\n",
              "       [-0.          ,  0.          , 12.7224692764, -7.7279312066],\n",
              "       [-0.          , -0.          ,  0.          ,  0.8090670364],\n",
              "       [ 0.          , -0.          , -0.          ,  0.          ]])"
            ]
          },
          "metadata": {},
          "execution_count": 40
        }
      ]
    },
    {
      "cell_type": "code",
      "source": [
        "q = Q.transpose()"
      ],
      "metadata": {
        "id": "zADYOjJ5hgH0"
      },
      "execution_count": null,
      "outputs": []
    },
    {
      "cell_type": "code",
      "source": [
        "q"
      ],
      "metadata": {
        "colab": {
          "base_uri": "https://localhost:8080/"
        },
        "id": "Nzp0P8m3hnG6",
        "outputId": "e8f2c1d9-fbfd-4a29-e459-51e518b2f2d2"
      },
      "execution_count": null,
      "outputs": [
        {
          "output_type": "execute_result",
          "data": {
            "text/plain": [
              "array([[ 0.0778498944,  0.3892494721,  0.7006490497, -0.2335496832,\n",
              "        -0.5449492609],\n",
              "       [-0.1808726186, -0.3853373178,  0.7077624204,  0.2831049682,\n",
              "         0.4875696674],\n",
              "       [ 0.2309909693,  0.5659278748,  0.0571061007, -0.3984594221,\n",
              "         0.6814233595],\n",
              "       [-0.860930308 ,  0.4615831169, -0.0700154166,  0.1996735955,\n",
              "         0.0311179629],\n",
              "       [-0.4082482905, -0.4082482905, -0.          , -0.8164965809,\n",
              "         0.          ]])"
            ]
          },
          "metadata": {},
          "execution_count": 42
        }
      ]
    },
    {
      "cell_type": "code",
      "source": [
        "b=np.array([[-12],[-28],[-4],[20],[50]],dtype='float')"
      ],
      "metadata": {
        "id": "pmpbaPvgif_B"
      },
      "execution_count": null,
      "outputs": []
    },
    {
      "cell_type": "code",
      "source": [
        "Q@R"
      ],
      "metadata": {
        "colab": {
          "base_uri": "https://localhost:8080/"
        },
        "id": "slZBJQwJjE1D",
        "outputId": "3cd055e9-d716-48ef-c544-79362edf84be"
      },
      "execution_count": null,
      "outputs": [
        {
          "output_type": "execute_result",
          "data": {
            "text/plain": [
              "array([[ 1., -2.,  3., -4.],\n",
              "       [ 5., -6.,  7., -8.],\n",
              "       [ 9.,  0., -1.,  2.],\n",
              "       [-3.,  4., -5.,  6.],\n",
              "       [-7.,  8.,  9.,  0.]])"
            ]
          },
          "metadata": {},
          "execution_count": 44
        }
      ]
    },
    {
      "cell_type": "code",
      "source": [
        "q@b"
      ],
      "metadata": {
        "colab": {
          "base_uri": "https://localhost:8080/"
        },
        "id": "NqSGpmUxnjnp",
        "outputId": "e8c9a707-c69f-4a12-9276-13a8fcdd610e"
      },
      "execution_count": null,
      "outputs": [
        {
          "output_type": "execute_result",
          "data": {
            "text/plain": [
              "array([[-46.5542368609],\n",
              "       [ 40.1694493733],\n",
              "       [  7.2556830027],\n",
              "       [  3.2362681457],\n",
              "       [  0.          ]])"
            ]
          },
          "metadata": {},
          "execution_count": 45
        }
      ]
    },
    {
      "cell_type": "code",
      "source": [
        "x1=-1.00000000004\n",
        "x2=1.99999999988\n",
        "x3=3.00000000007\n",
        "x4=4.00000000012"
      ],
      "metadata": {
        "id": "uCLEsIxHnDXI"
      },
      "execution_count": null,
      "outputs": []
    },
    {
      "cell_type": "code",
      "source": [],
      "metadata": {
        "id": "afi6_EGAuXSX"
      },
      "execution_count": null,
      "outputs": []
    }
  ]
}