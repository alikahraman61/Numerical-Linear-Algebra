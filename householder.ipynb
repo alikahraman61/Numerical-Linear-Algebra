{
  "nbformat": 4,
  "nbformat_minor": 0,
  "metadata": {
    "colab": {
      "provenance": []
    },
    "kernelspec": {
      "name": "python3",
      "display_name": "Python 3"
    },
    "language_info": {
      "name": "python"
    }
  },
  "cells": [
    {
      "cell_type": "code",
      "source": [
        "from math import copysign, hypot\n",
        "import numpy as np\n",
        "from numpy.linalg import inv"
      ],
      "metadata": {
        "id": "8xbBrlZJcujB"
      },
      "execution_count": null,
      "outputs": []
    },
    {
      "cell_type": "code",
      "source": [
        "def Hausholder(A):\n",
        "  \n",
        "    n, m = A.shape\n",
        "    Q = np.eye(n)\n",
        "    R = np.copy(A)\n",
        "\n",
        "    for k in range(m):\n",
        "        v = np.copy(R[k:, k]).reshape((n-k, 1))\n",
        "        v[0] = v[0] + np.sign(v[0]) * np.linalg.norm(v)\n",
        "        v = v / np.linalg.norm(v)\n",
        "        R[k:, k:] = R[k:, k:] - 2 * v @ v.T @ R[k:, k:]\n",
        "        Q[k:] = Q[k:] - 2 * v @ v.T @ Q[k:]\n",
        "\n",
        "    return Q[:m], R[:m]"
      ],
      "metadata": {
        "id": "sF8wIfv7qxaG"
      },
      "execution_count": null,
      "outputs": []
    },
    {
      "cell_type": "code",
      "source": [
        "np.set_printoptions(precision=10, suppress=True)\n",
        "\n",
        "# Input matrix\n",
        "A = np.array([[1,-4],[2,3],[2,2]], dtype='float')\n",
        "\n",
        "Q, R = Hausholder(A)\n"
      ],
      "metadata": {
        "id": "gPbEd4eAqx9P"
      },
      "execution_count": null,
      "outputs": []
    },
    {
      "cell_type": "code",
      "source": [
        "Q"
      ],
      "metadata": {
        "colab": {
          "base_uri": "https://localhost:8080/"
        },
        "id": "WZC0s3WbrERY",
        "outputId": "b6c9c175-ae40-4658-b680-5b118cda082e"
      },
      "execution_count": null,
      "outputs": [
        {
          "output_type": "execute_result",
          "data": {
            "text/plain": [
              "array([[-0.3333333333, -0.6666666667, -0.6666666667],\n",
              "       [ 0.9333333333, -0.3333333333, -0.1333333333]])"
            ]
          },
          "metadata": {},
          "execution_count": 4
        }
      ]
    },
    {
      "cell_type": "code",
      "source": [
        "R"
      ],
      "metadata": {
        "colab": {
          "base_uri": "https://localhost:8080/"
        },
        "id": "bgaOvE5prFxe",
        "outputId": "10661416-1cf9-49cd-d9db-1b1c6cf9ae2c"
      },
      "execution_count": null,
      "outputs": [
        {
          "output_type": "execute_result",
          "data": {
            "text/plain": [
              "array([[-3., -2.],\n",
              "       [-0., -5.]])"
            ]
          },
          "metadata": {},
          "execution_count": 5
        }
      ]
    },
    {
      "cell_type": "code",
      "source": [
        "q = Q.transpose()"
      ],
      "metadata": {
        "id": "WcQGjA2GrHJY"
      },
      "execution_count": null,
      "outputs": []
    },
    {
      "cell_type": "code",
      "source": [
        "q"
      ],
      "metadata": {
        "colab": {
          "base_uri": "https://localhost:8080/"
        },
        "id": "lOH_1TLardrp",
        "outputId": "65934337-a42f-4eae-be76-36f4a6cdd9d9"
      },
      "execution_count": null,
      "outputs": [
        {
          "output_type": "execute_result",
          "data": {
            "text/plain": [
              "array([[-0.3333333333,  0.9333333333],\n",
              "       [-0.6666666667, -0.3333333333],\n",
              "       [-0.6666666667, -0.1333333333]])"
            ]
          },
          "metadata": {},
          "execution_count": 7
        }
      ]
    },
    {
      "cell_type": "code",
      "source": [
        "q@R"
      ],
      "metadata": {
        "colab": {
          "base_uri": "https://localhost:8080/"
        },
        "id": "s4s2efPJre2p",
        "outputId": "34abb97d-bdfb-4d35-c41a-eed92a5c01db"
      },
      "execution_count": null,
      "outputs": [
        {
          "output_type": "execute_result",
          "data": {
            "text/plain": [
              "array([[ 1., -4.],\n",
              "       [ 2.,  3.],\n",
              "       [ 2.,  2.]])"
            ]
          },
          "metadata": {},
          "execution_count": 8
        }
      ]
    },
    {
      "cell_type": "code",
      "source": [
        "b=np.array([[-3],[15],[9]],dtype='float')"
      ],
      "metadata": {
        "id": "m6CQCdgMrm46"
      },
      "execution_count": null,
      "outputs": []
    },
    {
      "cell_type": "code",
      "source": [
        "Q@b"
      ],
      "metadata": {
        "colab": {
          "base_uri": "https://localhost:8080/"
        },
        "id": "pIcoedD9p1ZY",
        "outputId": "58a8c739-8885-4479-f6f4-6185f4012ca5"
      },
      "execution_count": null,
      "outputs": [
        {
          "output_type": "execute_result",
          "data": {
            "text/plain": [
              "array([[-15.],\n",
              "       [ -9.]])"
            ]
          },
          "metadata": {},
          "execution_count": 10
        }
      ]
    },
    {
      "cell_type": "code",
      "source": [],
      "metadata": {
        "id": "PS3aVeimuWRI"
      },
      "execution_count": null,
      "outputs": []
    }
  ]
}